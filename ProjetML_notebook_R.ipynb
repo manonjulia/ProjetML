{
 "cells": [
  {
   "cell_type": "markdown",
   "id": "e722dcbd-ab34-4f9e-b727-47b99cb5f3e7",
   "metadata": {},
   "source": [
    "# Projet Machine Learning - Groupe 1 - Noteboko Python"
   ]
  },
  {
   "cell_type": "markdown",
   "id": "f1aa1934-b615-4b27-9e4e-fe2ba7855876",
   "metadata": {},
   "source": [
    "Promotion 58 - 4GMM, Année universitaire 2023-2024\\\n",
    "Julia Manon (B), Piot Damien (A), Dumas Thomas (B), Ben Abdallah Selim (A)\n",
    "\n",
    "Le jeu de données comprend 3649 observations et 21 variables, qui représentent diverses caractéristiques liées à\n",
    "la consommation énergétique et à la géographie de 176 pays du monde au cours des années 2000 à 2020.\n",
    "\n",
    "---"
   ]
  },
  {
   "cell_type": "markdown",
   "id": "45dff9b3-0fbd-46c1-8b78-60e021fb9f8f",
   "metadata": {},
   "source": [
    "Les variables sont les suivantes:\\\n",
    "• **Entity** : Nom du pays ou de la région pour lequel les données sont rapportées.\\\n",
    "• **Year** : Année pour laquelle les données sont communiquées, entre 2000 et 2020.\\\n",
    "• **Access to electricity (% of population)** : Pourcentage de la population ayant accès à l’électricité.\\\n",
    "• **Access to clean fuels for cooking (% of population)** : Pourcentage de la population qui utilise principalement des combustibles propres.\\\n",
    "• **Renewable-electricity-generating-capacity-per-capita** : Capacité installée d’énergie renouvelable par personne.\\\n",
    "• **Financial flows to developing countries (US Dollars)** : Aide et assistance des pays développés pour les projets d’énergie propre.\\\n",
    "• **Renewable energy share in total final energy consumption (%)** : Pourcentage d’énergie renouve- lable dans la consommation d’énergie finale.\\\n",
    "• **Electricity from fossil fuels (TWh)** : Électricité produite à partir de combustibles fossiles (charbon, pétrole, gaz) en térawattheures.\\\n",
    "• **Electricity from nuclear (TWh)** : Électricité produite à partir de l’énergie nucléaire en térawattheures.\\\n",
    "• **Electricity from renewables (TWh)** : Électricité produite à partir de sources renouvelables (hydroélec-\n",
    "tricité, énergie solaire, énergie éolienne, etc.) en térawattheures.\\\n",
    "• **Low-carbon electricity (% electricity)** : Pourcentage d’électricité provenant de sources à faible teneur en carbone (nucléaire et énergies renouvelables).\\\n",
    "• **Primary energy consumption per capita (kWh/person)** : Consommation d’énergie par personne en kilowattheures.\n",
    "• **Energy intensity level of primary energy (MJ/2011 PPP GDP)** : Consommation d’énergie par unité de PIB à parité de pouvoir d’achat.\\\n",
    "• **Value-co2-emissions (metric tons per capita)** : Émissions de dioxyde de carbone par personne en tonnes métriques.\\\n",
    "• **Renewables (% equivalent primary energy)** : Équivalent énergie primaire provenant de sources re- nouvelables.\\\n",
    "• **GDP growth (annual %)** : Taux de croissance annuel du PIB en monnaie locale constante.\\\n",
    "• **GDP per capita** : Produit intérieur brut (PIB) par personne.\\\n",
    "• **Density (P/Km2)** : Densité de population en personnes par kilomètre carré.\\\n",
    "• **Land Area (Km2)** : Surface terrestre totale en kilomètres carrés.\\\n",
    "• **Latitude** : Latitude du centroïde du pays en degrés décimaux.\\\n",
    "• **Longitude** : Longitude du centroïde du pays en degrés décimaux.\n",
    "\n",
    "---"
   ]
  },
  {
   "cell_type": "markdown",
   "id": "82d30994-c3fa-463b-8cb3-7865c965ce75",
   "metadata": {},
   "source": [
    "**Objectif** : Notre objectif est de prédire la variable **Value-co2-emissions** à partir des autres variables.\n",
    "\n",
    "---"
   ]
  },
  {
   "cell_type": "markdown",
   "id": "c96ba958-543b-4f91-9111-4e76bf91f690",
   "metadata": {},
   "source": [
    "# 1 - Prise en main des données et analyse exploratoire"
   ]
  },
  {
   "cell_type": "code",
   "execution_count": 1,
   "id": "ac6826d6-3de2-4dfe-b691-3e7ff3d1d11a",
   "metadata": {},
   "outputs": [
    {
     "data": {
      "text/html": [
       "<table class=\"dataframe\">\n",
       "<caption>A data.frame: 6 × 21</caption>\n",
       "<thead>\n",
       "\t<tr><th></th><th scope=col>Entity</th><th scope=col>Year</th><th scope=col>Access.to.electricity....of.population.</th><th scope=col>Access.to.clean.fuels.for.cooking</th><th scope=col>Renewable.electricity.generating.capacity.per.capita</th><th scope=col>Financial.flows.to.developing.countries..US...</th><th scope=col>Renewable.energy.share.in.the.total.final.energy.consumption....</th><th scope=col>Electricity.from.fossil.fuels..TWh.</th><th scope=col>Electricity.from.nuclear..TWh.</th><th scope=col>Electricity.from.renewables..TWh.</th><th scope=col>⋯</th><th scope=col>Primary.energy.consumption.per.capita..kWh.person.</th><th scope=col>Energy.intensity.level.of.primary.energy..MJ..2017.PPP.GDP.</th><th scope=col>Value_co2_emissions_kt_by_country</th><th scope=col>Renewables....equivalent.primary.energy.</th><th scope=col>gdp_growth</th><th scope=col>gdp_per_capita</th><th scope=col>Density.n.P.Km2.</th><th scope=col>Land.Area.Km2.</th><th scope=col>Latitude</th><th scope=col>Longitude</th></tr>\n",
       "\t<tr><th></th><th scope=col>&lt;chr&gt;</th><th scope=col>&lt;int&gt;</th><th scope=col>&lt;dbl&gt;</th><th scope=col>&lt;dbl&gt;</th><th scope=col>&lt;dbl&gt;</th><th scope=col>&lt;dbl&gt;</th><th scope=col>&lt;dbl&gt;</th><th scope=col>&lt;dbl&gt;</th><th scope=col>&lt;dbl&gt;</th><th scope=col>&lt;dbl&gt;</th><th scope=col>⋯</th><th scope=col>&lt;dbl&gt;</th><th scope=col>&lt;dbl&gt;</th><th scope=col>&lt;dbl&gt;</th><th scope=col>&lt;dbl&gt;</th><th scope=col>&lt;dbl&gt;</th><th scope=col>&lt;dbl&gt;</th><th scope=col>&lt;chr&gt;</th><th scope=col>&lt;int&gt;</th><th scope=col>&lt;dbl&gt;</th><th scope=col>&lt;dbl&gt;</th></tr>\n",
       "</thead>\n",
       "<tbody>\n",
       "\t<tr><th scope=row>1</th><td>Afghanistan</td><td>2000</td><td> 1.613591</td><td> 6.2</td><td>9.22</td><td>   20000</td><td>44.99</td><td>0.16</td><td>0</td><td>0.31</td><td>⋯</td><td>302.5948</td><td>1.64</td><td> 760</td><td>NA</td><td>       NA</td><td>      NA</td><td>60</td><td>652230</td><td>33.93911</td><td>67.70995</td></tr>\n",
       "\t<tr><th scope=row>2</th><td>Afghanistan</td><td>2001</td><td> 4.074574</td><td> 7.2</td><td>8.86</td><td>  130000</td><td>45.60</td><td>0.09</td><td>0</td><td>0.50</td><td>⋯</td><td>236.8919</td><td>1.74</td><td> 730</td><td>NA</td><td>       NA</td><td>      NA</td><td>60</td><td>652230</td><td>33.93911</td><td>67.70995</td></tr>\n",
       "\t<tr><th scope=row>3</th><td>Afghanistan</td><td>2002</td><td> 9.409158</td><td> 8.2</td><td>8.47</td><td> 3950000</td><td>37.83</td><td>0.13</td><td>0</td><td>0.56</td><td>⋯</td><td>210.8622</td><td>1.40</td><td>1030</td><td>NA</td><td>       NA</td><td>179.4266</td><td>60</td><td>652230</td><td>33.93911</td><td>67.70995</td></tr>\n",
       "\t<tr><th scope=row>4</th><td>Afghanistan</td><td>2003</td><td>14.738506</td><td> 9.5</td><td>8.09</td><td>25970000</td><td>36.66</td><td>0.31</td><td>0</td><td>0.63</td><td>⋯</td><td>229.9682</td><td>1.40</td><td>1220</td><td>NA</td><td> 8.832278</td><td>190.6838</td><td>60</td><td>652230</td><td>33.93911</td><td>67.70995</td></tr>\n",
       "\t<tr><th scope=row>5</th><td>Afghanistan</td><td>2004</td><td>20.064968</td><td>10.9</td><td>7.75</td><td>      NA</td><td>44.24</td><td>0.33</td><td>0</td><td>0.56</td><td>⋯</td><td>204.2312</td><td>1.20</td><td>1030</td><td>NA</td><td> 1.414118</td><td>211.3821</td><td>60</td><td>652230</td><td>33.93911</td><td>67.70995</td></tr>\n",
       "\t<tr><th scope=row>6</th><td>Afghanistan</td><td>2005</td><td>25.390894</td><td>12.2</td><td>7.51</td><td> 9830000</td><td>33.88</td><td>0.34</td><td>0</td><td>0.59</td><td>⋯</td><td>252.0691</td><td>1.41</td><td>1550</td><td>NA</td><td>11.229715</td><td>242.0313</td><td>60</td><td>652230</td><td>33.93911</td><td>67.70995</td></tr>\n",
       "</tbody>\n",
       "</table>\n"
      ],
      "text/latex": [
       "A data.frame: 6 × 21\n",
       "\\begin{tabular}{r|lllllllllllllllllllll}\n",
       "  & Entity & Year & Access.to.electricity....of.population. & Access.to.clean.fuels.for.cooking & Renewable.electricity.generating.capacity.per.capita & Financial.flows.to.developing.countries..US... & Renewable.energy.share.in.the.total.final.energy.consumption.... & Electricity.from.fossil.fuels..TWh. & Electricity.from.nuclear..TWh. & Electricity.from.renewables..TWh. & ⋯ & Primary.energy.consumption.per.capita..kWh.person. & Energy.intensity.level.of.primary.energy..MJ..2017.PPP.GDP. & Value\\_co2\\_emissions\\_kt\\_by\\_country & Renewables....equivalent.primary.energy. & gdp\\_growth & gdp\\_per\\_capita & Density.n.P.Km2. & Land.Area.Km2. & Latitude & Longitude\\\\\n",
       "  & <chr> & <int> & <dbl> & <dbl> & <dbl> & <dbl> & <dbl> & <dbl> & <dbl> & <dbl> & ⋯ & <dbl> & <dbl> & <dbl> & <dbl> & <dbl> & <dbl> & <chr> & <int> & <dbl> & <dbl>\\\\\n",
       "\\hline\n",
       "\t1 & Afghanistan & 2000 &  1.613591 &  6.2 & 9.22 &    20000 & 44.99 & 0.16 & 0 & 0.31 & ⋯ & 302.5948 & 1.64 &  760 & NA &        NA &       NA & 60 & 652230 & 33.93911 & 67.70995\\\\\n",
       "\t2 & Afghanistan & 2001 &  4.074574 &  7.2 & 8.86 &   130000 & 45.60 & 0.09 & 0 & 0.50 & ⋯ & 236.8919 & 1.74 &  730 & NA &        NA &       NA & 60 & 652230 & 33.93911 & 67.70995\\\\\n",
       "\t3 & Afghanistan & 2002 &  9.409158 &  8.2 & 8.47 &  3950000 & 37.83 & 0.13 & 0 & 0.56 & ⋯ & 210.8622 & 1.40 & 1030 & NA &        NA & 179.4266 & 60 & 652230 & 33.93911 & 67.70995\\\\\n",
       "\t4 & Afghanistan & 2003 & 14.738506 &  9.5 & 8.09 & 25970000 & 36.66 & 0.31 & 0 & 0.63 & ⋯ & 229.9682 & 1.40 & 1220 & NA &  8.832278 & 190.6838 & 60 & 652230 & 33.93911 & 67.70995\\\\\n",
       "\t5 & Afghanistan & 2004 & 20.064968 & 10.9 & 7.75 &       NA & 44.24 & 0.33 & 0 & 0.56 & ⋯ & 204.2312 & 1.20 & 1030 & NA &  1.414118 & 211.3821 & 60 & 652230 & 33.93911 & 67.70995\\\\\n",
       "\t6 & Afghanistan & 2005 & 25.390894 & 12.2 & 7.51 &  9830000 & 33.88 & 0.34 & 0 & 0.59 & ⋯ & 252.0691 & 1.41 & 1550 & NA & 11.229715 & 242.0313 & 60 & 652230 & 33.93911 & 67.70995\\\\\n",
       "\\end{tabular}\n"
      ],
      "text/markdown": [
       "\n",
       "A data.frame: 6 × 21\n",
       "\n",
       "| <!--/--> | Entity &lt;chr&gt; | Year &lt;int&gt; | Access.to.electricity....of.population. &lt;dbl&gt; | Access.to.clean.fuels.for.cooking &lt;dbl&gt; | Renewable.electricity.generating.capacity.per.capita &lt;dbl&gt; | Financial.flows.to.developing.countries..US... &lt;dbl&gt; | Renewable.energy.share.in.the.total.final.energy.consumption.... &lt;dbl&gt; | Electricity.from.fossil.fuels..TWh. &lt;dbl&gt; | Electricity.from.nuclear..TWh. &lt;dbl&gt; | Electricity.from.renewables..TWh. &lt;dbl&gt; | ⋯ ⋯ | Primary.energy.consumption.per.capita..kWh.person. &lt;dbl&gt; | Energy.intensity.level.of.primary.energy..MJ..2017.PPP.GDP. &lt;dbl&gt; | Value_co2_emissions_kt_by_country &lt;dbl&gt; | Renewables....equivalent.primary.energy. &lt;dbl&gt; | gdp_growth &lt;dbl&gt; | gdp_per_capita &lt;dbl&gt; | Density.n.P.Km2. &lt;chr&gt; | Land.Area.Km2. &lt;int&gt; | Latitude &lt;dbl&gt; | Longitude &lt;dbl&gt; |\n",
       "|---|---|---|---|---|---|---|---|---|---|---|---|---|---|---|---|---|---|---|---|---|---|\n",
       "| 1 | Afghanistan | 2000 |  1.613591 |  6.2 | 9.22 |    20000 | 44.99 | 0.16 | 0 | 0.31 | ⋯ | 302.5948 | 1.64 |  760 | NA |        NA |       NA | 60 | 652230 | 33.93911 | 67.70995 |\n",
       "| 2 | Afghanistan | 2001 |  4.074574 |  7.2 | 8.86 |   130000 | 45.60 | 0.09 | 0 | 0.50 | ⋯ | 236.8919 | 1.74 |  730 | NA |        NA |       NA | 60 | 652230 | 33.93911 | 67.70995 |\n",
       "| 3 | Afghanistan | 2002 |  9.409158 |  8.2 | 8.47 |  3950000 | 37.83 | 0.13 | 0 | 0.56 | ⋯ | 210.8622 | 1.40 | 1030 | NA |        NA | 179.4266 | 60 | 652230 | 33.93911 | 67.70995 |\n",
       "| 4 | Afghanistan | 2003 | 14.738506 |  9.5 | 8.09 | 25970000 | 36.66 | 0.31 | 0 | 0.63 | ⋯ | 229.9682 | 1.40 | 1220 | NA |  8.832278 | 190.6838 | 60 | 652230 | 33.93911 | 67.70995 |\n",
       "| 5 | Afghanistan | 2004 | 20.064968 | 10.9 | 7.75 |       NA | 44.24 | 0.33 | 0 | 0.56 | ⋯ | 204.2312 | 1.20 | 1030 | NA |  1.414118 | 211.3821 | 60 | 652230 | 33.93911 | 67.70995 |\n",
       "| 6 | Afghanistan | 2005 | 25.390894 | 12.2 | 7.51 |  9830000 | 33.88 | 0.34 | 0 | 0.59 | ⋯ | 252.0691 | 1.41 | 1550 | NA | 11.229715 | 242.0313 | 60 | 652230 | 33.93911 | 67.70995 |\n",
       "\n"
      ],
      "text/plain": [
       "  Entity      Year Access.to.electricity....of.population.\n",
       "1 Afghanistan 2000  1.613591                              \n",
       "2 Afghanistan 2001  4.074574                              \n",
       "3 Afghanistan 2002  9.409158                              \n",
       "4 Afghanistan 2003 14.738506                              \n",
       "5 Afghanistan 2004 20.064968                              \n",
       "6 Afghanistan 2005 25.390894                              \n",
       "  Access.to.clean.fuels.for.cooking\n",
       "1  6.2                             \n",
       "2  7.2                             \n",
       "3  8.2                             \n",
       "4  9.5                             \n",
       "5 10.9                             \n",
       "6 12.2                             \n",
       "  Renewable.electricity.generating.capacity.per.capita\n",
       "1 9.22                                                \n",
       "2 8.86                                                \n",
       "3 8.47                                                \n",
       "4 8.09                                                \n",
       "5 7.75                                                \n",
       "6 7.51                                                \n",
       "  Financial.flows.to.developing.countries..US...\n",
       "1    20000                                      \n",
       "2   130000                                      \n",
       "3  3950000                                      \n",
       "4 25970000                                      \n",
       "5       NA                                      \n",
       "6  9830000                                      \n",
       "  Renewable.energy.share.in.the.total.final.energy.consumption....\n",
       "1 44.99                                                           \n",
       "2 45.60                                                           \n",
       "3 37.83                                                           \n",
       "4 36.66                                                           \n",
       "5 44.24                                                           \n",
       "6 33.88                                                           \n",
       "  Electricity.from.fossil.fuels..TWh. Electricity.from.nuclear..TWh.\n",
       "1 0.16                                0                             \n",
       "2 0.09                                0                             \n",
       "3 0.13                                0                             \n",
       "4 0.31                                0                             \n",
       "5 0.33                                0                             \n",
       "6 0.34                                0                             \n",
       "  Electricity.from.renewables..TWh. ⋯\n",
       "1 0.31                              ⋯\n",
       "2 0.50                              ⋯\n",
       "3 0.56                              ⋯\n",
       "4 0.63                              ⋯\n",
       "5 0.56                              ⋯\n",
       "6 0.59                              ⋯\n",
       "  Primary.energy.consumption.per.capita..kWh.person.\n",
       "1 302.5948                                          \n",
       "2 236.8919                                          \n",
       "3 210.8622                                          \n",
       "4 229.9682                                          \n",
       "5 204.2312                                          \n",
       "6 252.0691                                          \n",
       "  Energy.intensity.level.of.primary.energy..MJ..2017.PPP.GDP.\n",
       "1 1.64                                                       \n",
       "2 1.74                                                       \n",
       "3 1.40                                                       \n",
       "4 1.40                                                       \n",
       "5 1.20                                                       \n",
       "6 1.41                                                       \n",
       "  Value_co2_emissions_kt_by_country Renewables....equivalent.primary.energy.\n",
       "1  760                              NA                                      \n",
       "2  730                              NA                                      \n",
       "3 1030                              NA                                      \n",
       "4 1220                              NA                                      \n",
       "5 1030                              NA                                      \n",
       "6 1550                              NA                                      \n",
       "  gdp_growth gdp_per_capita Density.n.P.Km2. Land.Area.Km2. Latitude Longitude\n",
       "1        NA        NA       60               652230         33.93911 67.70995 \n",
       "2        NA        NA       60               652230         33.93911 67.70995 \n",
       "3        NA  179.4266       60               652230         33.93911 67.70995 \n",
       "4  8.832278  190.6838       60               652230         33.93911 67.70995 \n",
       "5  1.414118  211.3821       60               652230         33.93911 67.70995 \n",
       "6 11.229715  242.0313       60               652230         33.93911 67.70995 "
      ]
     },
     "metadata": {},
     "output_type": "display_data"
    }
   ],
   "source": [
    "file_path <- \"ProjetML/global-data-on-sustainable-energy .csv\"\n",
    "data <- read.csv(file_path)\n",
    "\n",
    "head(data)"
   ]
  },
  {
   "cell_type": "code",
   "execution_count": 2,
   "id": "e9fa5426-edd0-41a1-b938-897ca26600af",
   "metadata": {},
   "outputs": [
    {
     "data": {
      "text/plain": [
       "    Entity               Year      Access.to.electricity....of.population.\n",
       " Length:3649        Min.   :2000   Min.   :  1.252                        \n",
       " Class :character   1st Qu.:2005   1st Qu.: 59.801                        \n",
       " Mode  :character   Median :2010   Median : 98.362                        \n",
       "                    Mean   :2010   Mean   : 78.934                        \n",
       "                    3rd Qu.:2015   3rd Qu.:100.000                        \n",
       "                    Max.   :2020   Max.   :100.000                        \n",
       "                                   NA's   :10                             \n",
       " Access.to.clean.fuels.for.cooking\n",
       " Min.   :  0.00                   \n",
       " 1st Qu.: 23.18                   \n",
       " Median : 83.15                   \n",
       " Mean   : 63.26                   \n",
       " 3rd Qu.:100.00                   \n",
       " Max.   :100.00                   \n",
       " NA's   :169                      \n",
       " Renewable.electricity.generating.capacity.per.capita\n",
       " Min.   :   0.00                                     \n",
       " 1st Qu.:   3.54                                     \n",
       " Median :  32.91                                     \n",
       " Mean   : 113.14                                     \n",
       " 3rd Qu.: 112.21                                     \n",
       " Max.   :3060.19                                     \n",
       " NA's   :931                                         \n",
       " Financial.flows.to.developing.countries..US...\n",
       " Min.   :0.000e+00                             \n",
       " 1st Qu.:2.600e+05                             \n",
       " Median :5.665e+06                             \n",
       " Mean   :9.422e+07                             \n",
       " 3rd Qu.:5.535e+07                             \n",
       " Max.   :5.202e+09                             \n",
       " NA's   :2089                                  \n",
       " Renewable.energy.share.in.the.total.final.energy.consumption....\n",
       " Min.   : 0.000                                                  \n",
       " 1st Qu.: 6.515                                                  \n",
       " Median :23.300                                                  \n",
       " Mean   :32.638                                                  \n",
       " 3rd Qu.:55.245                                                  \n",
       " Max.   :96.040                                                  \n",
       " NA's   :194                                                     \n",
       " Electricity.from.fossil.fuels..TWh. Electricity.from.nuclear..TWh.\n",
       " Min.   :   0.00                     Min.   :  0.00                \n",
       " 1st Qu.:   0.29                     1st Qu.:  0.00                \n",
       " Median :   2.97                     Median :  0.00                \n",
       " Mean   :  70.36                     Mean   : 13.45                \n",
       " 3rd Qu.:  26.84                     3rd Qu.:  0.00                \n",
       " Max.   :5184.13                     Max.   :809.41                \n",
       " NA's   :21                          NA's   :126                   \n",
       " Electricity.from.renewables..TWh. Low.carbon.electricity....electricity.\n",
       " Min.   :   0.00                   Min.   :  0.000                       \n",
       " 1st Qu.:   0.04                   1st Qu.:  2.878                       \n",
       " Median :   1.47                   Median : 27.865                       \n",
       " Mean   :  23.97                   Mean   : 36.801                       \n",
       " 3rd Qu.:   9.60                   3rd Qu.: 64.404                       \n",
       " Max.   :2184.94                   Max.   :100.000                       \n",
       " NA's   :21                        NA's   :42                            \n",
       " Primary.energy.consumption.per.capita..kWh.person.\n",
       " Min.   :     0                                    \n",
       " 1st Qu.:  3117                                    \n",
       " Median : 13121                                    \n",
       " Mean   : 25744                                    \n",
       " 3rd Qu.: 33893                                    \n",
       " Max.   :262586                                    \n",
       "                                                   \n",
       " Energy.intensity.level.of.primary.energy..MJ..2017.PPP.GDP.\n",
       " Min.   : 0.110                                             \n",
       " 1st Qu.: 3.170                                             \n",
       " Median : 4.300                                             \n",
       " Mean   : 5.307                                             \n",
       " 3rd Qu.: 6.027                                             \n",
       " Max.   :32.570                                             \n",
       " NA's   :207                                                \n",
       " Value_co2_emissions_kt_by_country Renewables....equivalent.primary.energy.\n",
       " Min.   :      10                  Min.   : 0.000                          \n",
       " 1st Qu.:    2020                  1st Qu.: 2.137                          \n",
       " Median :   10500                  Median : 6.291                          \n",
       " Mean   :  159866                  Mean   :11.987                          \n",
       " 3rd Qu.:   60580                  3rd Qu.:16.842                          \n",
       " Max.   :10707220                  Max.   :86.837                          \n",
       " NA's   :428                       NA's   :2137                            \n",
       "   gdp_growth      gdp_per_capita     Density.n.P.Km2.   Land.Area.Km2.   \n",
       " Min.   :-62.076   Min.   :   111.9   Length:3649        Min.   :     21  \n",
       " 1st Qu.:  1.383   1st Qu.:  1337.8   Class :character   1st Qu.:  25713  \n",
       " Median :  3.560   Median :  4578.6   Mode  :character   Median : 117600  \n",
       " Mean   :  3.442   Mean   : 13283.8                      Mean   : 633213  \n",
       " 3rd Qu.:  5.830   3rd Qu.: 15768.6                      3rd Qu.: 513120  \n",
       " Max.   :123.140   Max.   :123514.2                      Max.   :9984670  \n",
       " NA's   :317       NA's   :282                           NA's   :1        \n",
       "    Latitude         Longitude      \n",
       " Min.   :-40.901   Min.   :-175.20  \n",
       " 1st Qu.:  3.203   1st Qu.: -11.78  \n",
       " Median : 17.190   Median :  19.15  \n",
       " Mean   : 18.246   Mean   :  14.82  \n",
       " 3rd Qu.: 38.970   3rd Qu.:  46.20  \n",
       " Max.   : 64.963   Max.   : 178.07  \n",
       " NA's   :1         NA's   :1        "
      ]
     },
     "metadata": {},
     "output_type": "display_data"
    }
   ],
   "source": [
    "summary(data)"
   ]
  },
  {
   "cell_type": "markdown",
   "id": "f5fd490b-0625-4940-b231-8f7d985a4100",
   "metadata": {},
   "source": [
    "## 1.1 - Vérification de la nature des variables et de leur encodage"
   ]
  },
  {
   "cell_type": "code",
   "execution_count": 3,
   "id": "797c6baa-a321-4059-9b01-1c99606a348a",
   "metadata": {},
   "outputs": [
    {
     "data": {
      "text/html": [
       "<table class=\"dataframe\">\n",
       "<caption>A data.frame: 6 × 21</caption>\n",
       "<thead>\n",
       "\t<tr><th></th><th scope=col>Entity</th><th scope=col>Year</th><th scope=col>Access.to.electricity....of.population.</th><th scope=col>Access.to.clean.fuels.for.cooking</th><th scope=col>Renewable.electricity.generating.capacity.per.capita</th><th scope=col>Financial.flows.to.developing.countries..US...</th><th scope=col>Renewable.energy.share.in.the.total.final.energy.consumption....</th><th scope=col>Electricity.from.fossil.fuels..TWh.</th><th scope=col>Electricity.from.nuclear..TWh.</th><th scope=col>Electricity.from.renewables..TWh.</th><th scope=col>⋯</th><th scope=col>Primary.energy.consumption.per.capita..kWh.person.</th><th scope=col>Energy.intensity.level.of.primary.energy..MJ..2017.PPP.GDP.</th><th scope=col>Value_co2_emissions_kt_by_country</th><th scope=col>Renewables....equivalent.primary.energy.</th><th scope=col>gdp_growth</th><th scope=col>gdp_per_capita</th><th scope=col>Density.n.P.Km2.</th><th scope=col>Land.Area.Km2.</th><th scope=col>Latitude</th><th scope=col>Longitude</th></tr>\n",
       "\t<tr><th></th><th scope=col>&lt;fct&gt;</th><th scope=col>&lt;fct&gt;</th><th scope=col>&lt;dbl&gt;</th><th scope=col>&lt;dbl&gt;</th><th scope=col>&lt;dbl&gt;</th><th scope=col>&lt;dbl&gt;</th><th scope=col>&lt;dbl&gt;</th><th scope=col>&lt;dbl&gt;</th><th scope=col>&lt;dbl&gt;</th><th scope=col>&lt;dbl&gt;</th><th scope=col>⋯</th><th scope=col>&lt;dbl&gt;</th><th scope=col>&lt;dbl&gt;</th><th scope=col>&lt;dbl&gt;</th><th scope=col>&lt;dbl&gt;</th><th scope=col>&lt;dbl&gt;</th><th scope=col>&lt;dbl&gt;</th><th scope=col>&lt;dbl&gt;</th><th scope=col>&lt;int&gt;</th><th scope=col>&lt;dbl&gt;</th><th scope=col>&lt;dbl&gt;</th></tr>\n",
       "</thead>\n",
       "<tbody>\n",
       "\t<tr><th scope=row>1</th><td>Afghanistan</td><td>2000</td><td> 1.613591</td><td> 6.2</td><td>9.22</td><td>   20000</td><td>44.99</td><td>0.16</td><td>0</td><td>0.31</td><td>⋯</td><td>302.5948</td><td>1.64</td><td> 760</td><td>NA</td><td>       NA</td><td>      NA</td><td>60</td><td>652230</td><td>33.93911</td><td>67.70995</td></tr>\n",
       "\t<tr><th scope=row>2</th><td>Afghanistan</td><td>2001</td><td> 4.074574</td><td> 7.2</td><td>8.86</td><td>  130000</td><td>45.60</td><td>0.09</td><td>0</td><td>0.50</td><td>⋯</td><td>236.8919</td><td>1.74</td><td> 730</td><td>NA</td><td>       NA</td><td>      NA</td><td>60</td><td>652230</td><td>33.93911</td><td>67.70995</td></tr>\n",
       "\t<tr><th scope=row>3</th><td>Afghanistan</td><td>2002</td><td> 9.409158</td><td> 8.2</td><td>8.47</td><td> 3950000</td><td>37.83</td><td>0.13</td><td>0</td><td>0.56</td><td>⋯</td><td>210.8622</td><td>1.40</td><td>1030</td><td>NA</td><td>       NA</td><td>179.4266</td><td>60</td><td>652230</td><td>33.93911</td><td>67.70995</td></tr>\n",
       "\t<tr><th scope=row>4</th><td>Afghanistan</td><td>2003</td><td>14.738506</td><td> 9.5</td><td>8.09</td><td>25970000</td><td>36.66</td><td>0.31</td><td>0</td><td>0.63</td><td>⋯</td><td>229.9682</td><td>1.40</td><td>1220</td><td>NA</td><td> 8.832278</td><td>190.6838</td><td>60</td><td>652230</td><td>33.93911</td><td>67.70995</td></tr>\n",
       "\t<tr><th scope=row>5</th><td>Afghanistan</td><td>2004</td><td>20.064968</td><td>10.9</td><td>7.75</td><td>      NA</td><td>44.24</td><td>0.33</td><td>0</td><td>0.56</td><td>⋯</td><td>204.2312</td><td>1.20</td><td>1030</td><td>NA</td><td> 1.414118</td><td>211.3821</td><td>60</td><td>652230</td><td>33.93911</td><td>67.70995</td></tr>\n",
       "\t<tr><th scope=row>6</th><td>Afghanistan</td><td>2005</td><td>25.390894</td><td>12.2</td><td>7.51</td><td> 9830000</td><td>33.88</td><td>0.34</td><td>0</td><td>0.59</td><td>⋯</td><td>252.0691</td><td>1.41</td><td>1550</td><td>NA</td><td>11.229715</td><td>242.0313</td><td>60</td><td>652230</td><td>33.93911</td><td>67.70995</td></tr>\n",
       "</tbody>\n",
       "</table>\n"
      ],
      "text/latex": [
       "A data.frame: 6 × 21\n",
       "\\begin{tabular}{r|lllllllllllllllllllll}\n",
       "  & Entity & Year & Access.to.electricity....of.population. & Access.to.clean.fuels.for.cooking & Renewable.electricity.generating.capacity.per.capita & Financial.flows.to.developing.countries..US... & Renewable.energy.share.in.the.total.final.energy.consumption.... & Electricity.from.fossil.fuels..TWh. & Electricity.from.nuclear..TWh. & Electricity.from.renewables..TWh. & ⋯ & Primary.energy.consumption.per.capita..kWh.person. & Energy.intensity.level.of.primary.energy..MJ..2017.PPP.GDP. & Value\\_co2\\_emissions\\_kt\\_by\\_country & Renewables....equivalent.primary.energy. & gdp\\_growth & gdp\\_per\\_capita & Density.n.P.Km2. & Land.Area.Km2. & Latitude & Longitude\\\\\n",
       "  & <fct> & <fct> & <dbl> & <dbl> & <dbl> & <dbl> & <dbl> & <dbl> & <dbl> & <dbl> & ⋯ & <dbl> & <dbl> & <dbl> & <dbl> & <dbl> & <dbl> & <dbl> & <int> & <dbl> & <dbl>\\\\\n",
       "\\hline\n",
       "\t1 & Afghanistan & 2000 &  1.613591 &  6.2 & 9.22 &    20000 & 44.99 & 0.16 & 0 & 0.31 & ⋯ & 302.5948 & 1.64 &  760 & NA &        NA &       NA & 60 & 652230 & 33.93911 & 67.70995\\\\\n",
       "\t2 & Afghanistan & 2001 &  4.074574 &  7.2 & 8.86 &   130000 & 45.60 & 0.09 & 0 & 0.50 & ⋯ & 236.8919 & 1.74 &  730 & NA &        NA &       NA & 60 & 652230 & 33.93911 & 67.70995\\\\\n",
       "\t3 & Afghanistan & 2002 &  9.409158 &  8.2 & 8.47 &  3950000 & 37.83 & 0.13 & 0 & 0.56 & ⋯ & 210.8622 & 1.40 & 1030 & NA &        NA & 179.4266 & 60 & 652230 & 33.93911 & 67.70995\\\\\n",
       "\t4 & Afghanistan & 2003 & 14.738506 &  9.5 & 8.09 & 25970000 & 36.66 & 0.31 & 0 & 0.63 & ⋯ & 229.9682 & 1.40 & 1220 & NA &  8.832278 & 190.6838 & 60 & 652230 & 33.93911 & 67.70995\\\\\n",
       "\t5 & Afghanistan & 2004 & 20.064968 & 10.9 & 7.75 &       NA & 44.24 & 0.33 & 0 & 0.56 & ⋯ & 204.2312 & 1.20 & 1030 & NA &  1.414118 & 211.3821 & 60 & 652230 & 33.93911 & 67.70995\\\\\n",
       "\t6 & Afghanistan & 2005 & 25.390894 & 12.2 & 7.51 &  9830000 & 33.88 & 0.34 & 0 & 0.59 & ⋯ & 252.0691 & 1.41 & 1550 & NA & 11.229715 & 242.0313 & 60 & 652230 & 33.93911 & 67.70995\\\\\n",
       "\\end{tabular}\n"
      ],
      "text/markdown": [
       "\n",
       "A data.frame: 6 × 21\n",
       "\n",
       "| <!--/--> | Entity &lt;fct&gt; | Year &lt;fct&gt; | Access.to.electricity....of.population. &lt;dbl&gt; | Access.to.clean.fuels.for.cooking &lt;dbl&gt; | Renewable.electricity.generating.capacity.per.capita &lt;dbl&gt; | Financial.flows.to.developing.countries..US... &lt;dbl&gt; | Renewable.energy.share.in.the.total.final.energy.consumption.... &lt;dbl&gt; | Electricity.from.fossil.fuels..TWh. &lt;dbl&gt; | Electricity.from.nuclear..TWh. &lt;dbl&gt; | Electricity.from.renewables..TWh. &lt;dbl&gt; | ⋯ ⋯ | Primary.energy.consumption.per.capita..kWh.person. &lt;dbl&gt; | Energy.intensity.level.of.primary.energy..MJ..2017.PPP.GDP. &lt;dbl&gt; | Value_co2_emissions_kt_by_country &lt;dbl&gt; | Renewables....equivalent.primary.energy. &lt;dbl&gt; | gdp_growth &lt;dbl&gt; | gdp_per_capita &lt;dbl&gt; | Density.n.P.Km2. &lt;dbl&gt; | Land.Area.Km2. &lt;int&gt; | Latitude &lt;dbl&gt; | Longitude &lt;dbl&gt; |\n",
       "|---|---|---|---|---|---|---|---|---|---|---|---|---|---|---|---|---|---|---|---|---|---|\n",
       "| 1 | Afghanistan | 2000 |  1.613591 |  6.2 | 9.22 |    20000 | 44.99 | 0.16 | 0 | 0.31 | ⋯ | 302.5948 | 1.64 |  760 | NA |        NA |       NA | 60 | 652230 | 33.93911 | 67.70995 |\n",
       "| 2 | Afghanistan | 2001 |  4.074574 |  7.2 | 8.86 |   130000 | 45.60 | 0.09 | 0 | 0.50 | ⋯ | 236.8919 | 1.74 |  730 | NA |        NA |       NA | 60 | 652230 | 33.93911 | 67.70995 |\n",
       "| 3 | Afghanistan | 2002 |  9.409158 |  8.2 | 8.47 |  3950000 | 37.83 | 0.13 | 0 | 0.56 | ⋯ | 210.8622 | 1.40 | 1030 | NA |        NA | 179.4266 | 60 | 652230 | 33.93911 | 67.70995 |\n",
       "| 4 | Afghanistan | 2003 | 14.738506 |  9.5 | 8.09 | 25970000 | 36.66 | 0.31 | 0 | 0.63 | ⋯ | 229.9682 | 1.40 | 1220 | NA |  8.832278 | 190.6838 | 60 | 652230 | 33.93911 | 67.70995 |\n",
       "| 5 | Afghanistan | 2004 | 20.064968 | 10.9 | 7.75 |       NA | 44.24 | 0.33 | 0 | 0.56 | ⋯ | 204.2312 | 1.20 | 1030 | NA |  1.414118 | 211.3821 | 60 | 652230 | 33.93911 | 67.70995 |\n",
       "| 6 | Afghanistan | 2005 | 25.390894 | 12.2 | 7.51 |  9830000 | 33.88 | 0.34 | 0 | 0.59 | ⋯ | 252.0691 | 1.41 | 1550 | NA | 11.229715 | 242.0313 | 60 | 652230 | 33.93911 | 67.70995 |\n",
       "\n"
      ],
      "text/plain": [
       "  Entity      Year Access.to.electricity....of.population.\n",
       "1 Afghanistan 2000  1.613591                              \n",
       "2 Afghanistan 2001  4.074574                              \n",
       "3 Afghanistan 2002  9.409158                              \n",
       "4 Afghanistan 2003 14.738506                              \n",
       "5 Afghanistan 2004 20.064968                              \n",
       "6 Afghanistan 2005 25.390894                              \n",
       "  Access.to.clean.fuels.for.cooking\n",
       "1  6.2                             \n",
       "2  7.2                             \n",
       "3  8.2                             \n",
       "4  9.5                             \n",
       "5 10.9                             \n",
       "6 12.2                             \n",
       "  Renewable.electricity.generating.capacity.per.capita\n",
       "1 9.22                                                \n",
       "2 8.86                                                \n",
       "3 8.47                                                \n",
       "4 8.09                                                \n",
       "5 7.75                                                \n",
       "6 7.51                                                \n",
       "  Financial.flows.to.developing.countries..US...\n",
       "1    20000                                      \n",
       "2   130000                                      \n",
       "3  3950000                                      \n",
       "4 25970000                                      \n",
       "5       NA                                      \n",
       "6  9830000                                      \n",
       "  Renewable.energy.share.in.the.total.final.energy.consumption....\n",
       "1 44.99                                                           \n",
       "2 45.60                                                           \n",
       "3 37.83                                                           \n",
       "4 36.66                                                           \n",
       "5 44.24                                                           \n",
       "6 33.88                                                           \n",
       "  Electricity.from.fossil.fuels..TWh. Electricity.from.nuclear..TWh.\n",
       "1 0.16                                0                             \n",
       "2 0.09                                0                             \n",
       "3 0.13                                0                             \n",
       "4 0.31                                0                             \n",
       "5 0.33                                0                             \n",
       "6 0.34                                0                             \n",
       "  Electricity.from.renewables..TWh. ⋯\n",
       "1 0.31                              ⋯\n",
       "2 0.50                              ⋯\n",
       "3 0.56                              ⋯\n",
       "4 0.63                              ⋯\n",
       "5 0.56                              ⋯\n",
       "6 0.59                              ⋯\n",
       "  Primary.energy.consumption.per.capita..kWh.person.\n",
       "1 302.5948                                          \n",
       "2 236.8919                                          \n",
       "3 210.8622                                          \n",
       "4 229.9682                                          \n",
       "5 204.2312                                          \n",
       "6 252.0691                                          \n",
       "  Energy.intensity.level.of.primary.energy..MJ..2017.PPP.GDP.\n",
       "1 1.64                                                       \n",
       "2 1.74                                                       \n",
       "3 1.40                                                       \n",
       "4 1.40                                                       \n",
       "5 1.20                                                       \n",
       "6 1.41                                                       \n",
       "  Value_co2_emissions_kt_by_country Renewables....equivalent.primary.energy.\n",
       "1  760                              NA                                      \n",
       "2  730                              NA                                      \n",
       "3 1030                              NA                                      \n",
       "4 1220                              NA                                      \n",
       "5 1030                              NA                                      \n",
       "6 1550                              NA                                      \n",
       "  gdp_growth gdp_per_capita Density.n.P.Km2. Land.Area.Km2. Latitude Longitude\n",
       "1        NA        NA       60               652230         33.93911 67.70995 \n",
       "2        NA        NA       60               652230         33.93911 67.70995 \n",
       "3        NA  179.4266       60               652230         33.93911 67.70995 \n",
       "4  8.832278  190.6838       60               652230         33.93911 67.70995 \n",
       "5  1.414118  211.3821       60               652230         33.93911 67.70995 \n",
       "6 11.229715  242.0313       60               652230         33.93911 67.70995 "
      ]
     },
     "metadata": {},
     "output_type": "display_data"
    }
   ],
   "source": [
    "data$Entity = as.factor(data$Entity) #On convertir Entity en variable qualitative\n",
    "data$Year = as.factor(data$Year) #On convertit Year en variable qualitative\n",
    "data$Density.n.P.Km2. = as.numeric(gsub(\",\",\"\",data$Density.n.P.Km2.)) #On convertit Density(P/Km2) en une variable numérique\n",
    "\n",
    "head(data)\n",
    "#summary(data)"
   ]
  },
  {
   "cell_type": "markdown",
   "id": "355e08f0-6cc5-4197-be21-57089b26300a",
   "metadata": {},
   "source": [
    "Comme pour le notebook python, nous allons renommer les colonnes, selon la même nomenclature."
   ]
  },
  {
   "cell_type": "code",
   "execution_count": 4,
   "id": "cadfccae-9246-47da-9dba-1bad3a6de6a4",
   "metadata": {},
   "outputs": [
    {
     "name": "stdout",
     "output_type": "stream",
     "text": [
      " [1] \"Entity\"                                                          \n",
      " [2] \"Year\"                                                            \n",
      " [3] \"Access.to.electricity....of.population.\"                         \n",
      " [4] \"Access.to.clean.fuels.for.cooking\"                               \n",
      " [5] \"Renewable.electricity.generating.capacity.per.capita\"            \n",
      " [6] \"Financial.flows.to.developing.countries..US...\"                  \n",
      " [7] \"Renewable.energy.share.in.the.total.final.energy.consumption....\"\n",
      " [8] \"Electricity.from.fossil.fuels..TWh.\"                             \n",
      " [9] \"Electricity.from.nuclear..TWh.\"                                  \n",
      "[10] \"Electricity.from.renewables..TWh.\"                               \n",
      "[11] \"Low.carbon.electricity....electricity.\"                          \n",
      "[12] \"Primary.energy.consumption.per.capita..kWh.person.\"              \n",
      "[13] \"Energy.intensity.level.of.primary.energy..MJ..2017.PPP.GDP.\"     \n",
      "[14] \"Value_co2_emissions_kt_by_country\"                               \n",
      "[15] \"Renewables....equivalent.primary.energy.\"                        \n",
      "[16] \"gdp_growth\"                                                      \n",
      "[17] \"gdp_per_capita\"                                                  \n",
      "[18] \"Density.n.P.Km2.\"                                                \n",
      "[19] \"Land.Area.Km2.\"                                                  \n",
      "[20] \"Latitude\"                                                        \n",
      "[21] \"Longitude\"                                                       \n"
     ]
    }
   ],
   "source": [
    "print(colnames(data))"
   ]
  },
  {
   "cell_type": "code",
   "execution_count": 5,
   "id": "ecf0f00b-6e67-4878-b808-af2888aaf57d",
   "metadata": {},
   "outputs": [
    {
     "data": {
      "text/html": [
       "<table class=\"dataframe\">\n",
       "<caption>A data.frame: 6 × 21</caption>\n",
       "<thead>\n",
       "\t<tr><th></th><th scope=col>Entity</th><th scope=col>Year</th><th scope=col>Elec_access</th><th scope=col>Clean_access</th><th scope=col>Renewable_per_capita</th><th scope=col>Financial_flows</th><th scope=col>Renewable_share</th><th scope=col>Fossil_elec</th><th scope=col>Nuclear_elec</th><th scope=col>Renewable_elec</th><th scope=col>⋯</th><th scope=col>Energy_per_capita</th><th scope=col>PEnergy_intensity</th><th scope=col>CO2</th><th scope=col>Renewables</th><th scope=col>Growth</th><th scope=col>GDP_per_capita</th><th scope=col>Density</th><th scope=col>Area</th><th scope=col>Latitude</th><th scope=col>Longitude</th></tr>\n",
       "\t<tr><th></th><th scope=col>&lt;fct&gt;</th><th scope=col>&lt;fct&gt;</th><th scope=col>&lt;dbl&gt;</th><th scope=col>&lt;dbl&gt;</th><th scope=col>&lt;dbl&gt;</th><th scope=col>&lt;dbl&gt;</th><th scope=col>&lt;dbl&gt;</th><th scope=col>&lt;dbl&gt;</th><th scope=col>&lt;dbl&gt;</th><th scope=col>&lt;dbl&gt;</th><th scope=col>⋯</th><th scope=col>&lt;dbl&gt;</th><th scope=col>&lt;dbl&gt;</th><th scope=col>&lt;dbl&gt;</th><th scope=col>&lt;dbl&gt;</th><th scope=col>&lt;dbl&gt;</th><th scope=col>&lt;dbl&gt;</th><th scope=col>&lt;dbl&gt;</th><th scope=col>&lt;int&gt;</th><th scope=col>&lt;dbl&gt;</th><th scope=col>&lt;dbl&gt;</th></tr>\n",
       "</thead>\n",
       "<tbody>\n",
       "\t<tr><th scope=row>1</th><td>Afghanistan</td><td>2000</td><td> 1.613591</td><td> 6.2</td><td>9.22</td><td>   20000</td><td>44.99</td><td>0.16</td><td>0</td><td>0.31</td><td>⋯</td><td>302.5948</td><td>1.64</td><td> 760</td><td>NA</td><td>       NA</td><td>      NA</td><td>60</td><td>652230</td><td>33.93911</td><td>67.70995</td></tr>\n",
       "\t<tr><th scope=row>2</th><td>Afghanistan</td><td>2001</td><td> 4.074574</td><td> 7.2</td><td>8.86</td><td>  130000</td><td>45.60</td><td>0.09</td><td>0</td><td>0.50</td><td>⋯</td><td>236.8919</td><td>1.74</td><td> 730</td><td>NA</td><td>       NA</td><td>      NA</td><td>60</td><td>652230</td><td>33.93911</td><td>67.70995</td></tr>\n",
       "\t<tr><th scope=row>3</th><td>Afghanistan</td><td>2002</td><td> 9.409158</td><td> 8.2</td><td>8.47</td><td> 3950000</td><td>37.83</td><td>0.13</td><td>0</td><td>0.56</td><td>⋯</td><td>210.8622</td><td>1.40</td><td>1030</td><td>NA</td><td>       NA</td><td>179.4266</td><td>60</td><td>652230</td><td>33.93911</td><td>67.70995</td></tr>\n",
       "\t<tr><th scope=row>4</th><td>Afghanistan</td><td>2003</td><td>14.738506</td><td> 9.5</td><td>8.09</td><td>25970000</td><td>36.66</td><td>0.31</td><td>0</td><td>0.63</td><td>⋯</td><td>229.9682</td><td>1.40</td><td>1220</td><td>NA</td><td> 8.832278</td><td>190.6838</td><td>60</td><td>652230</td><td>33.93911</td><td>67.70995</td></tr>\n",
       "\t<tr><th scope=row>5</th><td>Afghanistan</td><td>2004</td><td>20.064968</td><td>10.9</td><td>7.75</td><td>      NA</td><td>44.24</td><td>0.33</td><td>0</td><td>0.56</td><td>⋯</td><td>204.2312</td><td>1.20</td><td>1030</td><td>NA</td><td> 1.414118</td><td>211.3821</td><td>60</td><td>652230</td><td>33.93911</td><td>67.70995</td></tr>\n",
       "\t<tr><th scope=row>6</th><td>Afghanistan</td><td>2005</td><td>25.390894</td><td>12.2</td><td>7.51</td><td> 9830000</td><td>33.88</td><td>0.34</td><td>0</td><td>0.59</td><td>⋯</td><td>252.0691</td><td>1.41</td><td>1550</td><td>NA</td><td>11.229715</td><td>242.0313</td><td>60</td><td>652230</td><td>33.93911</td><td>67.70995</td></tr>\n",
       "</tbody>\n",
       "</table>\n"
      ],
      "text/latex": [
       "A data.frame: 6 × 21\n",
       "\\begin{tabular}{r|lllllllllllllllllllll}\n",
       "  & Entity & Year & Elec\\_access & Clean\\_access & Renewable\\_per\\_capita & Financial\\_flows & Renewable\\_share & Fossil\\_elec & Nuclear\\_elec & Renewable\\_elec & ⋯ & Energy\\_per\\_capita & PEnergy\\_intensity & CO2 & Renewables & Growth & GDP\\_per\\_capita & Density & Area & Latitude & Longitude\\\\\n",
       "  & <fct> & <fct> & <dbl> & <dbl> & <dbl> & <dbl> & <dbl> & <dbl> & <dbl> & <dbl> & ⋯ & <dbl> & <dbl> & <dbl> & <dbl> & <dbl> & <dbl> & <dbl> & <int> & <dbl> & <dbl>\\\\\n",
       "\\hline\n",
       "\t1 & Afghanistan & 2000 &  1.613591 &  6.2 & 9.22 &    20000 & 44.99 & 0.16 & 0 & 0.31 & ⋯ & 302.5948 & 1.64 &  760 & NA &        NA &       NA & 60 & 652230 & 33.93911 & 67.70995\\\\\n",
       "\t2 & Afghanistan & 2001 &  4.074574 &  7.2 & 8.86 &   130000 & 45.60 & 0.09 & 0 & 0.50 & ⋯ & 236.8919 & 1.74 &  730 & NA &        NA &       NA & 60 & 652230 & 33.93911 & 67.70995\\\\\n",
       "\t3 & Afghanistan & 2002 &  9.409158 &  8.2 & 8.47 &  3950000 & 37.83 & 0.13 & 0 & 0.56 & ⋯ & 210.8622 & 1.40 & 1030 & NA &        NA & 179.4266 & 60 & 652230 & 33.93911 & 67.70995\\\\\n",
       "\t4 & Afghanistan & 2003 & 14.738506 &  9.5 & 8.09 & 25970000 & 36.66 & 0.31 & 0 & 0.63 & ⋯ & 229.9682 & 1.40 & 1220 & NA &  8.832278 & 190.6838 & 60 & 652230 & 33.93911 & 67.70995\\\\\n",
       "\t5 & Afghanistan & 2004 & 20.064968 & 10.9 & 7.75 &       NA & 44.24 & 0.33 & 0 & 0.56 & ⋯ & 204.2312 & 1.20 & 1030 & NA &  1.414118 & 211.3821 & 60 & 652230 & 33.93911 & 67.70995\\\\\n",
       "\t6 & Afghanistan & 2005 & 25.390894 & 12.2 & 7.51 &  9830000 & 33.88 & 0.34 & 0 & 0.59 & ⋯ & 252.0691 & 1.41 & 1550 & NA & 11.229715 & 242.0313 & 60 & 652230 & 33.93911 & 67.70995\\\\\n",
       "\\end{tabular}\n"
      ],
      "text/markdown": [
       "\n",
       "A data.frame: 6 × 21\n",
       "\n",
       "| <!--/--> | Entity &lt;fct&gt; | Year &lt;fct&gt; | Elec_access &lt;dbl&gt; | Clean_access &lt;dbl&gt; | Renewable_per_capita &lt;dbl&gt; | Financial_flows &lt;dbl&gt; | Renewable_share &lt;dbl&gt; | Fossil_elec &lt;dbl&gt; | Nuclear_elec &lt;dbl&gt; | Renewable_elec &lt;dbl&gt; | ⋯ ⋯ | Energy_per_capita &lt;dbl&gt; | PEnergy_intensity &lt;dbl&gt; | CO2 &lt;dbl&gt; | Renewables &lt;dbl&gt; | Growth &lt;dbl&gt; | GDP_per_capita &lt;dbl&gt; | Density &lt;dbl&gt; | Area &lt;int&gt; | Latitude &lt;dbl&gt; | Longitude &lt;dbl&gt; |\n",
       "|---|---|---|---|---|---|---|---|---|---|---|---|---|---|---|---|---|---|---|---|---|---|\n",
       "| 1 | Afghanistan | 2000 |  1.613591 |  6.2 | 9.22 |    20000 | 44.99 | 0.16 | 0 | 0.31 | ⋯ | 302.5948 | 1.64 |  760 | NA |        NA |       NA | 60 | 652230 | 33.93911 | 67.70995 |\n",
       "| 2 | Afghanistan | 2001 |  4.074574 |  7.2 | 8.86 |   130000 | 45.60 | 0.09 | 0 | 0.50 | ⋯ | 236.8919 | 1.74 |  730 | NA |        NA |       NA | 60 | 652230 | 33.93911 | 67.70995 |\n",
       "| 3 | Afghanistan | 2002 |  9.409158 |  8.2 | 8.47 |  3950000 | 37.83 | 0.13 | 0 | 0.56 | ⋯ | 210.8622 | 1.40 | 1030 | NA |        NA | 179.4266 | 60 | 652230 | 33.93911 | 67.70995 |\n",
       "| 4 | Afghanistan | 2003 | 14.738506 |  9.5 | 8.09 | 25970000 | 36.66 | 0.31 | 0 | 0.63 | ⋯ | 229.9682 | 1.40 | 1220 | NA |  8.832278 | 190.6838 | 60 | 652230 | 33.93911 | 67.70995 |\n",
       "| 5 | Afghanistan | 2004 | 20.064968 | 10.9 | 7.75 |       NA | 44.24 | 0.33 | 0 | 0.56 | ⋯ | 204.2312 | 1.20 | 1030 | NA |  1.414118 | 211.3821 | 60 | 652230 | 33.93911 | 67.70995 |\n",
       "| 6 | Afghanistan | 2005 | 25.390894 | 12.2 | 7.51 |  9830000 | 33.88 | 0.34 | 0 | 0.59 | ⋯ | 252.0691 | 1.41 | 1550 | NA | 11.229715 | 242.0313 | 60 | 652230 | 33.93911 | 67.70995 |\n",
       "\n"
      ],
      "text/plain": [
       "  Entity      Year Elec_access Clean_access Renewable_per_capita\n",
       "1 Afghanistan 2000  1.613591    6.2         9.22                \n",
       "2 Afghanistan 2001  4.074574    7.2         8.86                \n",
       "3 Afghanistan 2002  9.409158    8.2         8.47                \n",
       "4 Afghanistan 2003 14.738506    9.5         8.09                \n",
       "5 Afghanistan 2004 20.064968   10.9         7.75                \n",
       "6 Afghanistan 2005 25.390894   12.2         7.51                \n",
       "  Financial_flows Renewable_share Fossil_elec Nuclear_elec Renewable_elec ⋯\n",
       "1    20000        44.99           0.16        0            0.31           ⋯\n",
       "2   130000        45.60           0.09        0            0.50           ⋯\n",
       "3  3950000        37.83           0.13        0            0.56           ⋯\n",
       "4 25970000        36.66           0.31        0            0.63           ⋯\n",
       "5       NA        44.24           0.33        0            0.56           ⋯\n",
       "6  9830000        33.88           0.34        0            0.59           ⋯\n",
       "  Energy_per_capita PEnergy_intensity CO2  Renewables Growth    GDP_per_capita\n",
       "1 302.5948          1.64               760 NA                NA       NA      \n",
       "2 236.8919          1.74               730 NA                NA       NA      \n",
       "3 210.8622          1.40              1030 NA                NA 179.4266      \n",
       "4 229.9682          1.40              1220 NA          8.832278 190.6838      \n",
       "5 204.2312          1.20              1030 NA          1.414118 211.3821      \n",
       "6 252.0691          1.41              1550 NA         11.229715 242.0313      \n",
       "  Density Area   Latitude Longitude\n",
       "1 60      652230 33.93911 67.70995 \n",
       "2 60      652230 33.93911 67.70995 \n",
       "3 60      652230 33.93911 67.70995 \n",
       "4 60      652230 33.93911 67.70995 \n",
       "5 60      652230 33.93911 67.70995 \n",
       "6 60      652230 33.93911 67.70995 "
      ]
     },
     "metadata": {},
     "output_type": "display_data"
    }
   ],
   "source": [
    "#names(data)[] <- \"\"\n",
    "names(data)[3] <- \"Elec_access\"\n",
    "names(data)[4] <- \"Clean_access\"\n",
    "names(data)[5] <- \"Renewable_per_capita\" #\n",
    "names(data)[6] <- \"Financial_flows\" #\n",
    "names(data)[7] <- \"Renewable_share\"\n",
    "names(data)[8] <- \"Fossil_elec\"\n",
    "names(data)[9] <- \"Nuclear_elec\"\n",
    "names(data)[10] <- \"Renewable_elec\"\n",
    "names(data)[11] <- \"Low_carb_elec\"\n",
    "names(data)[12] <- \"Energy_per_capita\"\n",
    "names(data)[13] <- \"PEnergy_intensity\"\n",
    "names(data)[14] <- \"CO2\"\n",
    "names(data)[15] <- \"Renewables\" #\n",
    "names(data)[16] <- \"Growth\"\n",
    "names(data)[17] <- \"GDP_per_capita\"\n",
    "names(data)[18] <- \"Density\"\n",
    "names(data)[19] <- \"Area\"\n",
    "      \n",
    "#print(colnames(data))\n",
    "head(data)"
   ]
  },
  {
   "cell_type": "markdown",
   "id": "48a937e9-9530-480c-9146-938d917d071f",
   "metadata": {},
   "source": [
    "## 1.2 - Déterminons le taux de valeurs manquantes pour chaque variable"
   ]
  },
  {
   "cell_type": "code",
   "execution_count": 6,
   "id": "0382e287-58c9-4e3d-a0f8-c5f25e60414a",
   "metadata": {},
   "outputs": [
    {
     "name": "stdout",
     "output_type": "stream",
     "text": [
      "              Entity                 Year          Elec_access \n",
      "          0.00000000           0.00000000           0.27404768 \n",
      "        Clean_access Renewable_per_capita      Financial_flows \n",
      "          4.63140586          25.51383941          57.24856125 \n",
      "     Renewable_share          Fossil_elec         Nuclear_elec \n",
      "          5.31652508           0.57550014           3.45300082 \n",
      "      Renewable_elec        Low_carb_elec    Energy_per_capita \n",
      "          0.57550014           1.15100027           0.00000000 \n",
      "   PEnergy_intensity                  CO2           Renewables \n",
      "          5.67278706          11.72924089          58.56399013 \n",
      "              Growth       GDP_per_capita              Density \n",
      "          8.68731159           7.72814470           0.02740477 \n",
      "                Area             Latitude            Longitude \n",
      "          0.02740477           0.02740477           0.02740477 \n"
     ]
    }
   ],
   "source": [
    "missing_rates <- sapply(data, function(x) mean(is.na(x)))\n",
    "missing <-  missing_rates * 100\n",
    "print(missing)"
   ]
  },
  {
   "cell_type": "markdown",
   "id": "8797cd90-ec91-4814-8c7f-ee0a19ad7d26",
   "metadata": {},
   "source": [
    "On observe que les variables **Renewable-electricity-generating-capacity-per-capita** que l'on a renommé **Renawable_per_capita**,**Financial flows to developing countries (US Dollars)** que l'on a renommé **Financial_flows** et **Renewables (% equivalent primary energy)** que l'on a renommé **Renewables** ont plus de 25% (et même plus de 57% pour **Financial_flows** et **Energy_per_capita**) de valeurs manquantes. Nous allons donc les supprimer."
   ]
  },
  {
   "cell_type": "code",
   "execution_count": 7,
   "id": "72cc5243-9376-4940-8cdc-38fa9123b24f",
   "metadata": {},
   "outputs": [
    {
     "data": {
      "text/html": [
       "<style>\n",
       ".list-inline {list-style: none; margin:0; padding: 0}\n",
       ".list-inline>li {display: inline-block}\n",
       ".list-inline>li:not(:last-child)::after {content: \"\\00b7\"; padding: 0 .5ex}\n",
       "</style>\n",
       "<ol class=list-inline><li>'Entity'</li><li>'Year'</li><li>'Elec_access'</li><li>'Clean_access'</li><li>'Renewable_share'</li><li>'Fossil_elec'</li><li>'Nuclear_elec'</li><li>'Renewable_elec'</li><li>'Low_carb_elec'</li><li>'Energy_per_capita'</li><li>'PEnergy_intensity'</li><li>'CO2'</li><li>'Growth'</li><li>'GDP_per_capita'</li><li>'Density'</li><li>'Area'</li><li>'Latitude'</li><li>'Longitude'</li></ol>\n"
      ],
      "text/latex": [
       "\\begin{enumerate*}\n",
       "\\item 'Entity'\n",
       "\\item 'Year'\n",
       "\\item 'Elec\\_access'\n",
       "\\item 'Clean\\_access'\n",
       "\\item 'Renewable\\_share'\n",
       "\\item 'Fossil\\_elec'\n",
       "\\item 'Nuclear\\_elec'\n",
       "\\item 'Renewable\\_elec'\n",
       "\\item 'Low\\_carb\\_elec'\n",
       "\\item 'Energy\\_per\\_capita'\n",
       "\\item 'PEnergy\\_intensity'\n",
       "\\item 'CO2'\n",
       "\\item 'Growth'\n",
       "\\item 'GDP\\_per\\_capita'\n",
       "\\item 'Density'\n",
       "\\item 'Area'\n",
       "\\item 'Latitude'\n",
       "\\item 'Longitude'\n",
       "\\end{enumerate*}\n"
      ],
      "text/markdown": [
       "1. 'Entity'\n",
       "2. 'Year'\n",
       "3. 'Elec_access'\n",
       "4. 'Clean_access'\n",
       "5. 'Renewable_share'\n",
       "6. 'Fossil_elec'\n",
       "7. 'Nuclear_elec'\n",
       "8. 'Renewable_elec'\n",
       "9. 'Low_carb_elec'\n",
       "10. 'Energy_per_capita'\n",
       "11. 'PEnergy_intensity'\n",
       "12. 'CO2'\n",
       "13. 'Growth'\n",
       "14. 'GDP_per_capita'\n",
       "15. 'Density'\n",
       "16. 'Area'\n",
       "17. 'Latitude'\n",
       "18. 'Longitude'\n",
       "\n",
       "\n"
      ],
      "text/plain": [
       " [1] \"Entity\"            \"Year\"              \"Elec_access\"      \n",
       " [4] \"Clean_access\"      \"Renewable_share\"   \"Fossil_elec\"      \n",
       " [7] \"Nuclear_elec\"      \"Renewable_elec\"    \"Low_carb_elec\"    \n",
       "[10] \"Energy_per_capita\" \"PEnergy_intensity\" \"CO2\"              \n",
       "[13] \"Growth\"            \"GDP_per_capita\"    \"Density\"          \n",
       "[16] \"Area\"              \"Latitude\"          \"Longitude\"        "
      ]
     },
     "metadata": {},
     "output_type": "display_data"
    }
   ],
   "source": [
    "# Supression des colonnes ayant un taux de données manquantes trop élevé\n",
    "data$Financial_flows <- NULL\n",
    "data$Renewables <- NULL\n",
    "data$Renewable_per_capita <- NULL\n",
    "\n",
    "#head(data)\n",
    "colnames(data) #Nous constatons que les variables concernées ont bien été supprimées"
   ]
  },
  {
   "cell_type": "markdown",
   "id": "d1752762-f038-41b1-a9bf-0b2b9585824e",
   "metadata": {},
   "source": [
    "## 1.3 - On ne garde que les individus qui n'ont pas de valeurs manquantes"
   ]
  },
  {
   "cell_type": "code",
   "execution_count": 8,
   "id": "6dd47ff9-03cc-46e8-82c0-69a3ea4f9304",
   "metadata": {},
   "outputs": [
    {
     "name": "stdout",
     "output_type": "stream",
     "text": [
      "[1] \"Nombre d'individus actuel :  3649\"\n"
     ]
    },
    {
     "data": {
      "text/html": [
       "<table class=\"dataframe\">\n",
       "<caption>A data.frame: 6 × 18</caption>\n",
       "<thead>\n",
       "\t<tr><th></th><th scope=col>Entity</th><th scope=col>Year</th><th scope=col>Elec_access</th><th scope=col>Clean_access</th><th scope=col>Renewable_share</th><th scope=col>Fossil_elec</th><th scope=col>Nuclear_elec</th><th scope=col>Renewable_elec</th><th scope=col>Low_carb_elec</th><th scope=col>Energy_per_capita</th><th scope=col>PEnergy_intensity</th><th scope=col>CO2</th><th scope=col>Growth</th><th scope=col>GDP_per_capita</th><th scope=col>Density</th><th scope=col>Area</th><th scope=col>Latitude</th><th scope=col>Longitude</th></tr>\n",
       "\t<tr><th></th><th scope=col>&lt;fct&gt;</th><th scope=col>&lt;fct&gt;</th><th scope=col>&lt;dbl&gt;</th><th scope=col>&lt;dbl&gt;</th><th scope=col>&lt;dbl&gt;</th><th scope=col>&lt;dbl&gt;</th><th scope=col>&lt;dbl&gt;</th><th scope=col>&lt;dbl&gt;</th><th scope=col>&lt;dbl&gt;</th><th scope=col>&lt;dbl&gt;</th><th scope=col>&lt;dbl&gt;</th><th scope=col>&lt;dbl&gt;</th><th scope=col>&lt;dbl&gt;</th><th scope=col>&lt;dbl&gt;</th><th scope=col>&lt;dbl&gt;</th><th scope=col>&lt;int&gt;</th><th scope=col>&lt;dbl&gt;</th><th scope=col>&lt;dbl&gt;</th></tr>\n",
       "</thead>\n",
       "<tbody>\n",
       "\t<tr><th scope=row>1</th><td>Afghanistan</td><td>2000</td><td> 1.613591</td><td> 6.2</td><td>44.99</td><td>0.16</td><td>0</td><td>0.31</td><td>65.95744</td><td>302.5948</td><td>1.64</td><td> 760</td><td>       NA</td><td>      NA</td><td>60</td><td>652230</td><td>33.93911</td><td>67.70995</td></tr>\n",
       "\t<tr><th scope=row>2</th><td>Afghanistan</td><td>2001</td><td> 4.074574</td><td> 7.2</td><td>45.60</td><td>0.09</td><td>0</td><td>0.50</td><td>84.74577</td><td>236.8919</td><td>1.74</td><td> 730</td><td>       NA</td><td>      NA</td><td>60</td><td>652230</td><td>33.93911</td><td>67.70995</td></tr>\n",
       "\t<tr><th scope=row>3</th><td>Afghanistan</td><td>2002</td><td> 9.409158</td><td> 8.2</td><td>37.83</td><td>0.13</td><td>0</td><td>0.56</td><td>81.15942</td><td>210.8622</td><td>1.40</td><td>1030</td><td>       NA</td><td>179.4266</td><td>60</td><td>652230</td><td>33.93911</td><td>67.70995</td></tr>\n",
       "\t<tr><th scope=row>4</th><td>Afghanistan</td><td>2003</td><td>14.738506</td><td> 9.5</td><td>36.66</td><td>0.31</td><td>0</td><td>0.63</td><td>67.02128</td><td>229.9682</td><td>1.40</td><td>1220</td><td> 8.832278</td><td>190.6838</td><td>60</td><td>652230</td><td>33.93911</td><td>67.70995</td></tr>\n",
       "\t<tr><th scope=row>5</th><td>Afghanistan</td><td>2004</td><td>20.064968</td><td>10.9</td><td>44.24</td><td>0.33</td><td>0</td><td>0.56</td><td>62.92135</td><td>204.2312</td><td>1.20</td><td>1030</td><td> 1.414118</td><td>211.3821</td><td>60</td><td>652230</td><td>33.93911</td><td>67.70995</td></tr>\n",
       "\t<tr><th scope=row>6</th><td>Afghanistan</td><td>2005</td><td>25.390894</td><td>12.2</td><td>33.88</td><td>0.34</td><td>0</td><td>0.59</td><td>63.44086</td><td>252.0691</td><td>1.41</td><td>1550</td><td>11.229715</td><td>242.0313</td><td>60</td><td>652230</td><td>33.93911</td><td>67.70995</td></tr>\n",
       "</tbody>\n",
       "</table>\n"
      ],
      "text/latex": [
       "A data.frame: 6 × 18\n",
       "\\begin{tabular}{r|llllllllllllllllll}\n",
       "  & Entity & Year & Elec\\_access & Clean\\_access & Renewable\\_share & Fossil\\_elec & Nuclear\\_elec & Renewable\\_elec & Low\\_carb\\_elec & Energy\\_per\\_capita & PEnergy\\_intensity & CO2 & Growth & GDP\\_per\\_capita & Density & Area & Latitude & Longitude\\\\\n",
       "  & <fct> & <fct> & <dbl> & <dbl> & <dbl> & <dbl> & <dbl> & <dbl> & <dbl> & <dbl> & <dbl> & <dbl> & <dbl> & <dbl> & <dbl> & <int> & <dbl> & <dbl>\\\\\n",
       "\\hline\n",
       "\t1 & Afghanistan & 2000 &  1.613591 &  6.2 & 44.99 & 0.16 & 0 & 0.31 & 65.95744 & 302.5948 & 1.64 &  760 &        NA &       NA & 60 & 652230 & 33.93911 & 67.70995\\\\\n",
       "\t2 & Afghanistan & 2001 &  4.074574 &  7.2 & 45.60 & 0.09 & 0 & 0.50 & 84.74577 & 236.8919 & 1.74 &  730 &        NA &       NA & 60 & 652230 & 33.93911 & 67.70995\\\\\n",
       "\t3 & Afghanistan & 2002 &  9.409158 &  8.2 & 37.83 & 0.13 & 0 & 0.56 & 81.15942 & 210.8622 & 1.40 & 1030 &        NA & 179.4266 & 60 & 652230 & 33.93911 & 67.70995\\\\\n",
       "\t4 & Afghanistan & 2003 & 14.738506 &  9.5 & 36.66 & 0.31 & 0 & 0.63 & 67.02128 & 229.9682 & 1.40 & 1220 &  8.832278 & 190.6838 & 60 & 652230 & 33.93911 & 67.70995\\\\\n",
       "\t5 & Afghanistan & 2004 & 20.064968 & 10.9 & 44.24 & 0.33 & 0 & 0.56 & 62.92135 & 204.2312 & 1.20 & 1030 &  1.414118 & 211.3821 & 60 & 652230 & 33.93911 & 67.70995\\\\\n",
       "\t6 & Afghanistan & 2005 & 25.390894 & 12.2 & 33.88 & 0.34 & 0 & 0.59 & 63.44086 & 252.0691 & 1.41 & 1550 & 11.229715 & 242.0313 & 60 & 652230 & 33.93911 & 67.70995\\\\\n",
       "\\end{tabular}\n"
      ],
      "text/markdown": [
       "\n",
       "A data.frame: 6 × 18\n",
       "\n",
       "| <!--/--> | Entity &lt;fct&gt; | Year &lt;fct&gt; | Elec_access &lt;dbl&gt; | Clean_access &lt;dbl&gt; | Renewable_share &lt;dbl&gt; | Fossil_elec &lt;dbl&gt; | Nuclear_elec &lt;dbl&gt; | Renewable_elec &lt;dbl&gt; | Low_carb_elec &lt;dbl&gt; | Energy_per_capita &lt;dbl&gt; | PEnergy_intensity &lt;dbl&gt; | CO2 &lt;dbl&gt; | Growth &lt;dbl&gt; | GDP_per_capita &lt;dbl&gt; | Density &lt;dbl&gt; | Area &lt;int&gt; | Latitude &lt;dbl&gt; | Longitude &lt;dbl&gt; |\n",
       "|---|---|---|---|---|---|---|---|---|---|---|---|---|---|---|---|---|---|---|\n",
       "| 1 | Afghanistan | 2000 |  1.613591 |  6.2 | 44.99 | 0.16 | 0 | 0.31 | 65.95744 | 302.5948 | 1.64 |  760 |        NA |       NA | 60 | 652230 | 33.93911 | 67.70995 |\n",
       "| 2 | Afghanistan | 2001 |  4.074574 |  7.2 | 45.60 | 0.09 | 0 | 0.50 | 84.74577 | 236.8919 | 1.74 |  730 |        NA |       NA | 60 | 652230 | 33.93911 | 67.70995 |\n",
       "| 3 | Afghanistan | 2002 |  9.409158 |  8.2 | 37.83 | 0.13 | 0 | 0.56 | 81.15942 | 210.8622 | 1.40 | 1030 |        NA | 179.4266 | 60 | 652230 | 33.93911 | 67.70995 |\n",
       "| 4 | Afghanistan | 2003 | 14.738506 |  9.5 | 36.66 | 0.31 | 0 | 0.63 | 67.02128 | 229.9682 | 1.40 | 1220 |  8.832278 | 190.6838 | 60 | 652230 | 33.93911 | 67.70995 |\n",
       "| 5 | Afghanistan | 2004 | 20.064968 | 10.9 | 44.24 | 0.33 | 0 | 0.56 | 62.92135 | 204.2312 | 1.20 | 1030 |  1.414118 | 211.3821 | 60 | 652230 | 33.93911 | 67.70995 |\n",
       "| 6 | Afghanistan | 2005 | 25.390894 | 12.2 | 33.88 | 0.34 | 0 | 0.59 | 63.44086 | 252.0691 | 1.41 | 1550 | 11.229715 | 242.0313 | 60 | 652230 | 33.93911 | 67.70995 |\n",
       "\n"
      ],
      "text/plain": [
       "  Entity      Year Elec_access Clean_access Renewable_share Fossil_elec\n",
       "1 Afghanistan 2000  1.613591    6.2         44.99           0.16       \n",
       "2 Afghanistan 2001  4.074574    7.2         45.60           0.09       \n",
       "3 Afghanistan 2002  9.409158    8.2         37.83           0.13       \n",
       "4 Afghanistan 2003 14.738506    9.5         36.66           0.31       \n",
       "5 Afghanistan 2004 20.064968   10.9         44.24           0.33       \n",
       "6 Afghanistan 2005 25.390894   12.2         33.88           0.34       \n",
       "  Nuclear_elec Renewable_elec Low_carb_elec Energy_per_capita PEnergy_intensity\n",
       "1 0            0.31           65.95744      302.5948          1.64             \n",
       "2 0            0.50           84.74577      236.8919          1.74             \n",
       "3 0            0.56           81.15942      210.8622          1.40             \n",
       "4 0            0.63           67.02128      229.9682          1.40             \n",
       "5 0            0.56           62.92135      204.2312          1.20             \n",
       "6 0            0.59           63.44086      252.0691          1.41             \n",
       "  CO2  Growth    GDP_per_capita Density Area   Latitude Longitude\n",
       "1  760        NA       NA       60      652230 33.93911 67.70995 \n",
       "2  730        NA       NA       60      652230 33.93911 67.70995 \n",
       "3 1030        NA 179.4266       60      652230 33.93911 67.70995 \n",
       "4 1220  8.832278 190.6838       60      652230 33.93911 67.70995 \n",
       "5 1030  1.414118 211.3821       60      652230 33.93911 67.70995 \n",
       "6 1550 11.229715 242.0313       60      652230 33.93911 67.70995 "
      ]
     },
     "metadata": {},
     "output_type": "display_data"
    }
   ],
   "source": [
    "nb_ind <- nrow(data)\n",
    "print(paste(\"Nombre d'individus actuel : \", nb_ind)) #3649 individus\n",
    "head(data)\n",
    "write.csv(data, file = \"test_dataframe.csv\", row.names = FALSE)"
   ]
  },
  {
   "cell_type": "code",
   "execution_count": 9,
   "id": "3391be24-50b3-4bec-a0a6-b53a5df8aa49",
   "metadata": {},
   "outputs": [
    {
     "name": "stdout",
     "output_type": "stream",
     "text": [
      "[1] \"Nombre d'individus après supression des valeurs manquantes :  2868\"\n"
     ]
    }
   ],
   "source": [
    "#Supression des individus pourlesquels on a des valeurs manquantes\n",
    "data <- na.omit(data) #je trouve 2082 au lieu de 2868, ça supprime trop de lignes\n",
    "new_nb_ind <- nrow(data)\n",
    "print(paste(\"Nombre d'individus après supression des valeurs manquantes : \", new_nb_ind))"
   ]
  },
  {
   "cell_type": "markdown",
   "id": "8839ff71-8d16-4613-8c81-aa4ca917490d",
   "metadata": {},
   "source": [
    "## 1.4 Analyse descriptive unidimensionnelle des données"
   ]
  }
 ],
 "metadata": {
  "kernelspec": {
   "display_name": "R",
   "language": "R",
   "name": "ir"
  },
  "language_info": {
   "codemirror_mode": "r",
   "file_extension": ".r",
   "mimetype": "text/x-r-source",
   "name": "R",
   "pygments_lexer": "r",
   "version": "4.2.2"
  }
 },
 "nbformat": 4,
 "nbformat_minor": 5
}
